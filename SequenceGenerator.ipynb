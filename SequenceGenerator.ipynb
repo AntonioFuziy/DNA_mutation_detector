{
  "cells": [
    {
      "cell_type": "markdown",
      "metadata": {
        "id": "L2gAYBjX_MBM"
      },
      "source": [
        "**GERADOR DE INSTÂNCIAS PARA COMPARAÇÃO DE SEQUENCIAS DE DNA**\n",
        "\n",
        "Para usar este gerador, você deve fornecer três parâmetros:\n",
        "\n",
        "n = tamanho da primeira sequencia \n",
        "\n",
        "m = tamanho da segunda instância \n",
        "\n",
        "file = nome do arquivo da instância a ser gerada"
      ]
    },
    {
      "cell_type": "code",
      "execution_count": 1,
      "metadata": {
        "colab": {
          "base_uri": "https://localhost:8080/"
        },
        "id": "_s7Cbahf_LId",
        "outputId": "1ac73e4b-1f04-4170-d159-bb3a861bc4d6"
      },
      "outputs": [
        {
          "name": "stdout",
          "output_type": "stream",
          "text": [
            "1\n",
            "4\n",
            "-\n",
            "C-AC\n"
          ]
        }
      ],
      "source": [
        "import random\n",
        "n = 1\n",
        "m = 4\n",
        "file = 'dna_tiny.seq'\n",
        "f = open(file, 'w')\n",
        "seq=[str(n)+'\\n',\n",
        "     str(m)+'\\n',\n",
        "     ''.join(random.choices(['A','T','C','G','-'],k=n))+'\\n',\n",
        "     ''.join(random.choices(['A','T','C','G','-'],k=m))]\n",
        "f.writelines(seq)\n",
        "f.close()\n",
        "print(''.join(seq))"
      ]
    },
    {
      "cell_type": "code",
      "execution_count": 2,
      "metadata": {},
      "outputs": [
        {
          "name": "stdout",
          "output_type": "stream",
          "text": [
            "10\n",
            "40\n",
            "-GCG-T-AC-\n",
            "A-CCGCA-TACGCTT--AA-TCT-G-C-TAGTGCGCAAAT\n"
          ]
        }
      ],
      "source": [
        "import random\n",
        "n = 10\n",
        "m = 40\n",
        "file = 'dna_medium.seq'\n",
        "f = open(file, 'w')\n",
        "seq=[str(n)+'\\n',\n",
        "     str(m)+'\\n',\n",
        "     ''.join(random.choices(['A','T','C','G','-'],k=n))+'\\n',\n",
        "     ''.join(random.choices(['A','T','C','G','-'],k=m))]\n",
        "f.writelines(seq)\n",
        "f.close()\n",
        "print(''.join(seq))"
      ]
    },
    {
      "cell_type": "code",
      "execution_count": 3,
      "metadata": {},
      "outputs": [
        {
          "name": "stdout",
          "output_type": "stream",
          "text": [
            "100\n",
            "400\n",
            "-C-G----TG-GTTCACTCGCGGGAACT-TAA-CT-T-GATATGGC-CGGGGGACTCATTGACACTTGA--A-AGCGCCAG-C-ATAG-CG--GTTCACG\n",
            "AC-A-CAT-CGG-AAAGGCC-TAAGTTAGCTTCA-A-A---AGT-TCGCTT-GCGCCC-GACC-TAGTTC-ATG--GC-AGAA-A---TAAC-G-AGA--CC-AT---A-AGGCG-TGCGCGGC-AGGAA-CTC--GC-ATCAT-TT--AA-TCAACG-CA-CGTTTTA--CCT-GTACAAGTG-G-AAT-C---CATTGAGGGATCG-CGGT-AA-AT-TG--TTT-AAACGCTCGA-TCTT-GTC--GT-TG-AGA-ACATGCAGCCTCTC-AG-GA--GGGAGCCCG-T-CC-G--G-TGATACAA-AAT-GGCCTCAGCA--CTAAAGTTG-ACTTAAGC-GGG--GGG-CTACA--CCTA--AAAGTTA--CC-GAGC-GCACGGGG---GGCTC\n"
          ]
        }
      ],
      "source": [
        "import random\n",
        "n = 100\n",
        "m = 400\n",
        "file = 'dna_large.seq'\n",
        "f = open(file, 'w')\n",
        "seq=[str(n)+'\\n',\n",
        "     str(m)+'\\n',\n",
        "     ''.join(random.choices(['A','T','C','G','-'],k=n))+'\\n',\n",
        "     ''.join(random.choices(['A','T','C','G','-'],k=m))]\n",
        "f.writelines(seq)\n",
        "f.close()\n",
        "print(''.join(seq))"
      ]
    },
    {
      "cell_type": "code",
      "execution_count": null,
      "metadata": {},
      "outputs": [],
      "source": []
    }
  ],
  "metadata": {
    "colab": {
      "collapsed_sections": [],
      "name": "SequenceGenerator.ipynb",
      "provenance": []
    },
    "kernelspec": {
      "display_name": "Python 3",
      "name": "python3"
    },
    "language_info": {
      "codemirror_mode": {
        "name": "ipython",
        "version": 3
      },
      "file_extension": ".py",
      "mimetype": "text/x-python",
      "name": "python",
      "nbconvert_exporter": "python",
      "pygments_lexer": "ipython3",
      "version": "3.8.10"
    }
  },
  "nbformat": 4,
  "nbformat_minor": 0
}
