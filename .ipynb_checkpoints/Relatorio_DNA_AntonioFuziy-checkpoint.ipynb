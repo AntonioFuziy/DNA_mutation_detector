{
 "cells": [
  {
   "cell_type": "code",
   "execution_count": 1,
   "id": "d84c5ba7",
   "metadata": {},
   "outputs": [],
   "source": [
    "import matplotlib.pyplot as plt\n",
    "import numpy as np\n",
    "import time"
   ]
  },
  {
   "cell_type": "code",
   "execution_count": null,
   "id": "c1c8df7c",
   "metadata": {},
   "outputs": [],
   "source": [
    "algorithms = [\n",
    "    \"./smith_waterman/smith_waterman\",\n",
    "    \"./busca_local_aleatoria/busca_local_randomness\",\n",
    "    \"./busca_exaustiva/exaustive_search\"\n",
    "]"
   ]
  }
 ],
 "metadata": {
  "kernelspec": {
   "display_name": "Python 3 (ipykernel)",
   "language": "python",
   "name": "python3"
  },
  "language_info": {
   "codemirror_mode": {
    "name": "ipython",
    "version": 3
   },
   "file_extension": ".py",
   "mimetype": "text/x-python",
   "name": "python",
   "nbconvert_exporter": "python",
   "pygments_lexer": "ipython3",
   "version": "3.8.10"
  }
 },
 "nbformat": 4,
 "nbformat_minor": 5
}
