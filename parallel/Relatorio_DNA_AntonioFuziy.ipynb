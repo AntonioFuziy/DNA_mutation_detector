{
 "cells": [
  {
   "cell_type": "markdown",
   "id": "a6b53d4d",
   "metadata": {},
   "source": [
    "# Relatório sobre Alinhamento de Sequências de DNA - Supercomputação\n",
    "\n",
    "**Aluno: Antonio Vieira Fuziy**\n",
    "\n",
    "**Professor: Luciano Silva**\n",
    "\n",
    "___"
   ]
  },
  {
   "cell_type": "markdown",
   "id": "96ddee19",
   "metadata": {},
   "source": [
    "Para realização do relatório, é necessário realizar uma contextualização sobre os três algoritmos tratados na atividade. Dentre eles estão os itens representados abaixo:\n",
    "\n",
    "- Smith Waterman\n",
    "\n",
    "A implementação do algoritmo de Smith Waterman se baseia mais em exploitation, utilizando um alinhamento local que gera todas as subsequências de todos os tamanhos e compara essas subsequências através de uma matriz, calculando a melhor pontuação possível sempre que uma subsequência comparada se apresenta melhor que as outras anteriores. \n",
    "\n",
    "- Busca Local\n",
    "\n",
    "Para a implementação da busca local a ideia é um pouco diferente, esse algoritmo se baseia mais em exploration e em pouco exploitation, utilizando-se de uma aleatoriedade para gerar as subsequências de diferentes tamanhos, assim através dessas sequências aleatórias calcula-se a pontuação e monta-se as sequências A e B resultantes da melhor pontuação.\n",
    "\n",
    "- Busca Exaustiva\n",
    "\n",
    "Por fim, para a implementação da busca exaustiva a ideia é muito focada em exploration, dessa forma ele gera todas as possíveis subsequências a fim de conseguir encontrar a melhor pontuação a partir das duas sequências de entrada."
   ]
  },
  {
   "cell_type": "markdown",
   "id": "f25ded4b",
   "metadata": {},
   "source": [
    "Bibliotecas para o código"
   ]
  },
  {
   "cell_type": "code",
   "execution_count": 57,
   "id": "d84c5ba7",
   "metadata": {},
   "outputs": [],
   "source": [
    "import matplotlib.pyplot as plt\n",
    "import numpy as np\n",
    "import time\n",
    "import os\n",
    "import subprocess\n",
    "plt.style.use(\"ggplot\")"
   ]
  },
  {
   "cell_type": "markdown",
   "id": "10ef2ab4",
   "metadata": {},
   "source": [
    "Lista de algoritmos testados"
   ]
  },
  {
   "cell_type": "code",
   "execution_count": 58,
   "id": "c1c8df7c",
   "metadata": {},
   "outputs": [],
   "source": [
    "algorithms = [\n",
    "    \"exaustive_search/exaustive_search\",\n",
    "    \"exaustive_search/parallel_exaustive_search\",\n",
    "]\n",
    "\n",
    "input_directory = \"./dna_sequences/all_sequences\""
   ]
  },
  {
   "cell_type": "markdown",
   "id": "fd60fef2",
   "metadata": {},
   "source": [
    "Função para rodar os executáveis de `C++`"
   ]
  },
  {
   "cell_type": "code",
   "execution_count": 59,
   "id": "d61e098e",
   "metadata": {},
   "outputs": [],
   "source": [
    "def roda_com_entrada(executavel, algorithm):\n",
    "  with open(algorithm) as f:\n",
    "    start = time.perf_counter()\n",
    "    proc = subprocess.run([executavel], input=f.read(), text=True, capture_output=True)\n",
    "    end = time.perf_counter()\n",
    "  return end-start"
   ]
  },
  {
   "cell_type": "markdown",
   "id": "d8d62af1",
   "metadata": {},
   "source": [
    "Função para geração de tempos dos algoritmos"
   ]
  },
  {
   "cell_type": "code",
   "execution_count": 60,
   "id": "37a28b16",
   "metadata": {},
   "outputs": [],
   "source": [
    "def generate_time(algorithm, directory):\n",
    "    tempos_busca = []\n",
    "    dir_list = os.listdir(directory)\n",
    "    for f in dir_list:\n",
    "        tempos_busca.append(roda_com_entrada(algorithm,f'{directory}/{f}'))\n",
    "    return tempos_busca, dir_list"
   ]
  },
  {
   "cell_type": "markdown",
   "id": "6dc4ab51",
   "metadata": {},
   "source": [
    "Função para geração de tamanhos das sequências"
   ]
  },
  {
   "cell_type": "code",
   "execution_count": 61,
   "id": "d5b5ea04",
   "metadata": {},
   "outputs": [],
   "source": [
    "def generate_length(directory, dir_list):\n",
    "    n = []\n",
    "    m = []\n",
    "    for file in dir_list:\n",
    "        with open(f'{directory}/{file}') as f :\n",
    "            text_splitted = f.read().splitlines()\n",
    "        n.append(text_splitted[0])\n",
    "        m.append(text_splitted[1])\n",
    "    n = [int(i) for i in n]\n",
    "    m = [int(j) for j in m]\n",
    "    # n.sort()\n",
    "    # m.sort()\n",
    "    return n, m"
   ]
  },
  {
   "cell_type": "markdown",
   "id": "ee862d59",
   "metadata": {},
   "source": [
    "Executando os algoritmos para as entradas e salvando seus tempos e tamanhos de sequências"
   ]
  },
  {
   "cell_type": "code",
   "execution_count": 62,
   "id": "b8c2ecc7",
   "metadata": {},
   "outputs": [],
   "source": [
    "tempos_exaustiva_sequencial, dir_exaustiva_sequencial = generate_time(algorithms[0], input_directory)\n",
    "n_exaustiva_sequencial, m_exaustiva_sequencial = generate_length(input_directory, dir_exaustiva_sequencial)\n",
    "\n",
    "tempos_exaustiva_parallel, dir_exaustiva_parallel  = generate_time(algorithms[1], input_directory)\n",
    "n_exaustiva_parallel, m_exaustiva_parallel = generate_length(input_directory, dir_exaustiva_parallel)"
   ]
  },
  {
   "cell_type": "markdown",
   "id": "b5ff6b63",
   "metadata": {},
   "source": [
    "___\n",
    "\n",
    "### Análise dos algoritmos\n",
    "\n",
    "Utilizando os tempos de execução dos algoritmos e os tamanhos das sequências A e B geradas, é razoável realizar a análise e comparação dos comportamentos dos três algoritmos com sequências de vários tamanhos, assim abaixo foi exposto os gráfico 3D de **Tamanho da Sequência A X Tamanho da Sequência B X Tempo** para os algoritmos de Smith Waterman, Busca Local e Busca Exaustiva.\n",
    "\n",
    "**Obs: Vale ressaltar que a análise foi realizada a partir de várias sequências de DNA de tamanhos diferentes, com o tamanho máximo de 300, e assim foi possível construir o relatório com análises mais aprofundadas.**"
   ]
  },
  {
   "cell_type": "code",
   "execution_count": 64,
   "id": "483ae157",
   "metadata": {},
   "outputs": [
    {
     "data": {
      "image/png": "[encoded data removed]",
      "text/plain": [
       "<Figure size 864x504 with 1 Axes>"
      ]
     },
     "metadata": {},
     "output_type": "display_data"
    }
   ],
   "source": [
    "plt.figure(figsize=(12, 7))\n",
    "plt.scatter(n_exaustiva_sequencial, tempos_exaustiva_sequencial, label=\"sequential\")\n",
    "plt.scatter(n_exaustiva_parallel, tempos_exaustiva_parallel, label=\"parallel\")\n",
    "plt.title(\"Exaustive Search\")\n",
    "plt.xlabel('Sequência')\n",
    "plt.ylabel(\"Tempo\")\n",
    "plt.legend()\n",
    "\n",
    "plt.show()"
   ]
  },
  {
   "cell_type": "markdown",
   "id": "8e9eee88",
   "metadata": {},
   "source": [
    "Analisando os gráficos acima pode-se identificar alguns comportamentos por parte de cada algortimo:\n",
    "\n",
    "\n",
    "- **Busca Exaustiva:**\n",
    "\n",
    "O comportamento é mais visível, uma vez que a busca exaustiva gera todas as subsequências possíveis das entradas, dessa forma quanto maior o tamanho da entrada, maior o tamanho das subsequências geradas e assim maior o tempo de processamento para o cálculo da pontuação, portanto o gŕafico apresenta um comportamento exponencial, começando com cores mais escuras quando as sequências de entrada são menores e conforme o aumento delas, o gráfico tende a ficar mais clara, demonstrando o aumento do tempo de execução. \n"
   ]
  },
  {
   "cell_type": "markdown",
   "id": "bff2dafd",
   "metadata": {},
   "source": [
    "___\n",
    "\n",
    "### Profiling\n",
    "\n",
    "Para uma análise dos tempos de execução e dos pontos de lentidão dos códigos utilizou-se o `valgrind`, dessa forma foi representado abaixo cada uma das análises dos três algoritmos (Smith Waterman, Busca Local e Busca Exaustiva).\n",
    "\n",
    "- **Busca Exaustiva:**\n",
    "\n",
    "![profiling busca_exaustiva](busca_exaustiva_valgrind.png)\n",
    "\n",
    "Por fim, para implementação da busca exaustiva, espera-se que o processamento demore muito mais, visto que esse algoritmo gera todas as subsequências possíveis, dessa forma observando o profiling da busca exaustiva pode-se perceber que a maior lentidão do algoritmo está presente nos loops sobre as subsequências e no cálculo da pontuação da melhor subsequência, uma vez que existem 3 for's um dentro do outro nesse fragmento do código, gerando assim milhões de iterações do algortimo."
   ]
  },
  {
   "cell_type": "code",
   "execution_count": null,
   "id": "7424917a",
   "metadata": {},
   "outputs": [],
   "source": []
  }
 ],
 "metadata": {
  "interpreter": {
   "hash": "31f2aee4e71d21fbe5cf8b01ff0e069b9275f58929596ceb00d14d90e3e16cd6"
  },
  "kernelspec": {
   "display_name": "Python 3.10.4 64-bit",
   "language": "python",
   "name": "python3"
  },
  "language_info": {
   "codemirror_mode": {
    "name": "ipython",
    "version": 3
   },
   "file_extension": ".py",
   "mimetype": "text/x-python",
   "name": "python",
   "nbconvert_exporter": "python",
   "pygments_lexer": "ipython3",
   "version": "3.10.4"
  }
 },
 "nbformat": 4,
 "nbformat_minor": 5
}
