{
 "cells": [
  {
   "cell_type": "markdown",
   "id": "a6b53d4d",
   "metadata": {},
   "source": [
    "# Relatório sobre Alinhamento de Sequências de DNA - Supercomputação\n",
    "\n",
    "**Aluno: Antonio Vieira Fuziy**\n",
    "\n",
    "**Professor: Luciano Silva**\n",
    "\n",
    "___"
   ]
  },
  {
   "cell_type": "markdown",
   "id": "96ddee19",
   "metadata": {},
   "source": [
    "Para realização do relatório, é necessário realizar uma contextualização sobre os três algoritmos tratados na atividade. Dentre eles estão os itens representados abaixo:\n",
    "\n",
    "- Smith Waterman\n",
    "\n",
    "A implementação do algoritmo de Smith Waterman se baseia mais em exploitation, utilizando um alinhamento local que gera todas as subsequências de todos os tamanhos e compara essas subsequências através de uma matriz, calculando a melhor pontuação possível sempre que uma subsequência comparada se apresenta melhor que as outras anteriores. \n",
    "\n",
    "- Busca Local\n",
    "\n",
    "Para a implementação da busca local a ideia é um pouco diferente, esse algoritmo se baseia mais em exploration e em pouco exploitation, utilizando-se de uma aleatoriedade para gerar as subsequências de diferentes tamanhos, assim através dessas sequências aleatórias calcula-se a pontuação e monta-se as sequências A e B resultantes da melhor pontuação.\n",
    "\n",
    "- Busca Exaustiva\n",
    "\n",
    "Por fim, para a implementação da busca exaustiva a ideia é muito focada em exploration, dessa forma ele gera todas as possíveis subsequências a fim de conseguir encontrar a melhor pontuação a partir das duas sequências de entrada."
   ]
  },
  {
   "cell_type": "markdown",
   "id": "f25ded4b",
   "metadata": {},
   "source": [
    "Bibliotecas para o código"
   ]
  },
  {
   "cell_type": "code",
   "execution_count": 1,
   "id": "d84c5ba7",
   "metadata": {},
   "outputs": [],
   "source": [
    "import matplotlib.pyplot as plt\n",
    "import numpy as np\n",
    "import time\n",
    "import os\n",
    "import subprocess\n",
    "plt.style.use(\"ggplot\")"
   ]
  },
  {
   "cell_type": "markdown",
   "id": "10ef2ab4",
   "metadata": {},
   "source": [
    "Lista de algoritmos testados"
   ]
  },
  {
   "cell_type": "code",
   "execution_count": 2,
   "id": "c1c8df7c",
   "metadata": {},
   "outputs": [],
   "source": [
    "algorithms = [\n",
    "    \"exaustive_search/exaustive_search\",\n",
    "    \"exaustive_search/parallel_exaustive_search\",\n",
    "    \"gpu/main\"\n",
    "]\n",
    "\n",
    "input_directory = \"./dna_sequences/all_sequences\""
   ]
  },
  {
   "cell_type": "markdown",
   "id": "fd60fef2",
   "metadata": {},
   "source": [
    "Função para rodar os executáveis de `C++`"
   ]
  },
  {
   "cell_type": "code",
   "execution_count": 3,
   "id": "d61e098e",
   "metadata": {},
   "outputs": [],
   "source": [
    "def roda_com_entrada(executavel, algorithm):\n",
    "  with open(algorithm) as f:\n",
    "    start = time.perf_counter()\n",
    "    proc = subprocess.run([executavel], input=f.read(), text=True, capture_output=True)\n",
    "    end = time.perf_counter()\n",
    "  return end-start"
   ]
  },
  {
   "cell_type": "markdown",
   "id": "d8d62af1",
   "metadata": {},
   "source": [
    "Função para geração de tempos dos algoritmos"
   ]
  },
  {
   "cell_type": "code",
   "execution_count": 4,
   "id": "37a28b16",
   "metadata": {},
   "outputs": [],
   "source": [
    "def generate_time(algorithm, directory):\n",
    "    tempos_busca = []\n",
    "    dir_list = os.listdir(directory)\n",
    "    for f in dir_list:\n",
    "        tempos_busca.append(roda_com_entrada(algorithm,f'{directory}/{f}'))\n",
    "    return tempos_busca, dir_list"
   ]
  },
  {
   "cell_type": "markdown",
   "id": "6dc4ab51",
   "metadata": {},
   "source": [
    "Função para geração de tamanhos das sequências"
   ]
  },
  {
   "cell_type": "code",
   "execution_count": 5,
   "id": "d5b5ea04",
   "metadata": {},
   "outputs": [],
   "source": [
    "def generate_length(directory, dir_list):\n",
    "    n = []\n",
    "    m = []\n",
    "    for file in dir_list:\n",
    "        with open(f'{directory}/{file}') as f :\n",
    "            text_splitted = f.read().splitlines()\n",
    "        n.append(text_splitted[0])\n",
    "        m.append(text_splitted[1])\n",
    "    n = [int(i) for i in n]\n",
    "    m = [int(j) for j in m]\n",
    "    # n.sort()\n",
    "    # m.sort()\n",
    "    return n, m"
   ]
  },
  {
   "cell_type": "markdown",
   "id": "ee862d59",
   "metadata": {},
   "source": [
    "Executando os algoritmos para as entradas e salvando seus tempos e tamanhos de sequências"
   ]
  },
  {
   "cell_type": "code",
   "execution_count": 6,
   "id": "b8c2ecc7",
   "metadata": {},
   "outputs": [],
   "source": [
    "# tempos_exaustiva_sequencial, dir_exaustiva_sequencial = generate_time(algorithms[0], input_directory)\n",
    "# n_exaustiva_sequencial, m_exaustiva_sequencial = generate_length(input_directory, dir_exaustiva_sequencial)\n",
    "\n",
    "# tempos_exaustiva_parallel, dir_exaustiva_parallel  = generate_time(algorithms[1], input_directory)\n",
    "# n_exaustiva_parallel, m_exaustiva_parallel = generate_length(input_directory, dir_exaustiva_parallel)\n",
    "\n",
    "# tempos_exaustiva_gpu, dir_exaustiva_gpu  = generate_time(algorithms[2], input_directory)\n",
    "# n_exaustiva_gpu, m_exaustiva_gpu = generate_length(input_directory, dir_exaustiva_gpu)"
   ]
  },
  {
   "cell_type": "code",
   "execution_count": 2,
   "id": "43a6944c",
   "metadata": {},
   "outputs": [
    {
     "data": {
      "image/png": "[encoded data removed]",
      "text/plain": [
       "<Figure size 432x288 with 1 Axes>"
      ]
     },
     "metadata": {
      "needs_background": "light"
     },
     "output_type": "display_data"
    }
   ],
   "source": [
    "\n",
    "x = [27, 33, 22, 35, 94, 39, 58, 36, 50, 92, 26, 52, 84, 60, 54, 67, 32, 46, 89, 80, 73, 83, 41, 79, 23, 77, 75, 69, 25, 82, 55, 51, 53, 98, 78, 30, 56, 87, 61, 71, 44, 85, 37, 40, 100, 99, 68, 97, 20, 49, 93, 66, 91, 88, 74, 45, 72, 96, 47, 31, 29, 95, 90, 34, 42, 86, 70, 62, 28, 81, 43, 59, 21, 76, 65, 63, 48, 57, 24, 64, 38]\n",
    "y = [2.719664598815143, 3.9932264941744506, 1.5543570863083005, 4.636197492945939, 108.12624888215214, 6.144551394041628, 19.092691592872143, 5.053228207863867, 15.168341133743525, 245.5220630718395, 5.163404838647693, 46.01605524402112, 61.7322190226987, 43.7503184559755, 47.25393664184958, 99.41283010132611, 11.827216199133545, 32.55966434394941, 232.1317806672305, 173.71312510501593, 132.91857767198235, 195.7787227667868, 24.295751288998872, 164.26168608199805, 3.2733968440443277, 156.28153295395896, 144.3441376159899, 113.70277460105717, 5.9661346799694, 189.13893646514043, 57.854081206955016, 46.231577932834625, 50.18840531958267, 322.85250507714227, 163.87243301980197, 9.849023303948343, 60.98061792179942, 220.82077348185703, 77.15499845519662, 123.81639023311436, 28.622532350942492, 212.25907621672377, 16.791027253959328, 22.628016400150955, 344.9794659279287, 332.9471331592649, 108.8372345957905, 313.14919026289135, 3.3196508958935738, 41.11246558604762, 276.0806724652648, 99.52588186785579, 260.1058387621306, 230.73063140409067, 138.5479226806201, 31.94631287595257, 127.4607613380067, 303.61314709996805, 36.30462520895526, 10.832470649853349, 8.997656183317304, 295.94695965899155, 249.22342199506238, 14.090915991924703, 26.080699515063316, 219.45090073905885, 117.0847452818416, 82.5250881346874, 8.157649222295731, 183.45589202595875, 27.937980213202536, 71.31218629563227, 3.779360691085458, 151.78923555882648, 95.17399123078212, 85.12458450905979, 38.654367009643465, 64.33353714784607, 5.342214883305132, 90.82532024988905, 19.456423357129097]\n",
    "plt.scatter(x, y)\n",
    "plt.show()"
   ]
  },
  {
   "cell_type": "markdown",
   "id": "b5ff6b63",
   "metadata": {},
   "source": [
    "___\n",
    "\n",
    "### Análise dos algoritmos\n",
    "\n",
    "Utilizando os tempos de execução dos algoritmos e os tamanhos das sequências A e B geradas, é razoável realizar a análise e comparação dos comportamentos dos três algoritmos com sequências de vários tamanhos, assim abaixo foi exposto os gráfico 3D de **Tamanho da Sequência A X Tamanho da Sequência B X Tempo** para os algoritmos de Smith Waterman, Busca Local e Busca Exaustiva.\n",
    "\n",
    "**Obs: Vale ressaltar que a análise foi realizada a partir de várias sequências de DNA de tamanhos diferentes, com o tamanho máximo de 300, e assim foi possível construir o relatório com análises mais aprofundadas.**"
   ]
  },
  {
   "cell_type": "code",
   "execution_count": 18,
   "id": "77341dde",
   "metadata": {},
   "outputs": [
    {
     "name": "stdout",
     "output_type": "stream",
     "text": [
      "[27, 33, 22, 35, 94, 39, 58, 36, 50, 92, 26, 52, 84, 60, 54, 67, 32, 46, 89, 80, 73, 83, 41, 79, 23, 77, 75, 69, 25, 82, 55, 51, 53, 98, 78, 30, 56, 87, 61, 71, 44, 85, 37, 40, 100, 99, 68, 97, 20, 49, 93, 66, 91, 88, 74, 45, 72, 96, 47, 31, 29, 95, 90, 34, 42, 86, 70, 62, 28, 81, 43, 59, 21, 76, 65, 63, 48, 57, 24, 64, 38]\n",
      "[2.719664598815143, 3.9932264941744506, 1.5543570863083005, 4.636197492945939, 108.12624888215214, 6.144551394041628, 19.092691592872143, 5.053228207863867, 15.168341133743525, 245.5220630718395, 5.163404838647693, 46.01605524402112, 61.7322190226987, 43.7503184559755, 47.25393664184958, 99.41283010132611, 11.827216199133545, 32.55966434394941, 232.1317806672305, 173.71312510501593, 132.91857767198235, 195.7787227667868, 24.295751288998872, 164.26168608199805, 3.2733968440443277, 156.28153295395896, 144.3441376159899, 113.70277460105717, 5.9661346799694, 189.13893646514043, 57.854081206955016, 46.231577932834625, 50.18840531958267, 322.85250507714227, 163.87243301980197, 9.849023303948343, 60.98061792179942, 220.82077348185703, 77.15499845519662, 123.81639023311436, 28.622532350942492, 212.25907621672377, 16.791027253959328, 22.628016400150955, 344.9794659279287, 332.9471331592649, 108.8372345957905, 313.14919026289135, 3.3196508958935738, 41.11246558604762, 276.0806724652648, 99.52588186785579, 260.1058387621306, 230.73063140409067, 138.5479226806201, 31.94631287595257, 127.4607613380067, 303.61314709996805, 36.30462520895526, 10.832470649853349, 8.997656183317304, 295.94695965899155, 249.22342199506238, 14.090915991924703, 26.080699515063316, 219.45090073905885, 117.0847452818416, 82.5250881346874, 8.157649222295731, 183.45589202595875, 27.937980213202536, 71.31218629563227, 3.779360691085458, 151.78923555882648, 95.17399123078212, 85.12458450905979, 38.654367009643465, 64.33353714784607, 5.342214883305132, 90.82532024988905, 19.456423357129097]\n"
     ]
    }
   ],
   "source": [
    "print(n_exaustiva_gpu)\n",
    "print(tempos_exaustiva_gpu)"
   ]
  },
  {
   "cell_type": "code",
   "execution_count": 17,
   "id": "194ad46a",
   "metadata": {},
   "outputs": [
    {
     "data": {
      "image/png": "[encoded data removed]",
      "text/plain": [
       "<Figure size 864x504 with 1 Axes>"
      ]
     },
     "metadata": {},
     "output_type": "display_data"
    }
   ],
   "source": [
    "plt.figure(figsize=(12, 7))\n",
    "# plt.scatter(n_exaustiva_sequencial, tempos_exaustiva_sequencial, label=\"sequential\")\n",
    "# plt.scatter(n_exaustiva_parallel, tempos_exaustiva_parallel, label=\"parallel\")\n",
    "plt.scatter(n_exaustiva_gpu, tempos_exaustiva_gpu, label=\"gpu parallel\")\n",
    "plt.title(\"Exaustive Search\")\n",
    "plt.xlabel('Sequência')\n",
    "plt.ylabel(\"Tempo\")\n",
    "plt.legend()\n",
    "\n",
    "plt.show()"
   ]
  },
  {
   "cell_type": "code",
   "execution_count": 7,
   "id": "483ae157",
   "metadata": {},
   "outputs": [
    {
     "data": {
      "image/png": "[encoded data removed]",
      "text/plain": [
       "<Figure size 864x504 with 1 Axes>"
      ]
     },
     "metadata": {
      "needs_background": "light"
     },
     "output_type": "display_data"
    }
   ],
   "source": [
    "plt.figure(figsize=(12, 7))\n",
    "# plt.scatter(n_exaustiva_sequencial, tempos_exaustiva_sequencial, label=\"sequential\")\n",
    "# plt.scatter(n_exaustiva_parallel, tempos_exaustiva_parallel, label=\"parallel\")\n",
    "plt.scatter(n_exaustiva_gpu, tempos_exaustiva_gpu, label=\"gpu parallel\")\n",
    "plt.title(\"Exaustive Search\")\n",
    "plt.xlabel('Sequência')\n",
    "plt.ylabel(\"Tempo\")\n",
    "plt.legend()\n",
    "\n",
    "plt.show()"
   ]
  },
  {
   "cell_type": "markdown",
   "id": "8e9eee88",
   "metadata": {},
   "source": [
    "Analisando os gráficos acima pode-se identificar alguns comportamentos por parte de cada algortimo:\n",
    "\n",
    "\n",
    "- **Busca Exaustiva:**\n",
    "\n",
    "O comportamento é mais visível, uma vez que a busca exaustiva gera todas as subsequências possíveis das entradas, dessa forma quanto maior o tamanho da entrada, maior o tamanho das subsequências geradas e assim maior o tempo de processamento para o cálculo da pontuação, portanto o gŕafico apresenta um comportamento exponencial, começando com cores mais escuras quando as sequências de entrada são menores e conforme o aumento delas, o gráfico tende a ficar mais clara, demonstrando o aumento do tempo de execução. \n"
   ]
  },
  {
   "cell_type": "markdown",
   "id": "bff2dafd",
   "metadata": {},
   "source": [
    "___\n",
    "\n",
    "### Profiling\n",
    "\n",
    "Para uma análise dos tempos de execução e dos pontos de lentidão dos códigos utilizou-se o `valgrind`, dessa forma foi representado abaixo cada uma das análises dos três algoritmos (Smith Waterman, Busca Local e Busca Exaustiva).\n",
    "\n",
    "- **Busca Exaustiva:**\n",
    "\n",
    "![profiling busca_exaustiva](busca_exaustiva_valgrind.png)\n",
    "\n",
    "Por fim, para implementação da busca exaustiva, espera-se que o processamento demore muito mais, visto que esse algoritmo gera todas as subsequências possíveis, dessa forma observando o profiling da busca exaustiva pode-se perceber que a maior lentidão do algoritmo está presente nos loops sobre as subsequências e no cálculo da pontuação da melhor subsequência, uma vez que existem 3 for's um dentro do outro nesse fragmento do código, gerando assim milhões de iterações do algortimo."
   ]
  },
  {
   "cell_type": "code",
   "execution_count": null,
   "id": "7424917a",
   "metadata": {},
   "outputs": [],
   "source": []
  }
 ],
 "metadata": {
  "interpreter": {
   "hash": "31f2aee4e71d21fbe5cf8b01ff0e069b9275f58929596ceb00d14d90e3e16cd6"
  },
  "kernelspec": {
   "display_name": "Python 3.10.4 64-bit",
   "language": "python",
   "name": "python3"
  },
  "language_info": {
   "codemirror_mode": {
    "name": "ipython",
    "version": 3
   },
   "file_extension": ".py",
   "mimetype": "text/x-python",
   "name": "python",
   "nbconvert_exporter": "python",
   "pygments_lexer": "ipython3",
   "version": "3.10.4"
  }
 },
 "nbformat": 4,
 "nbformat_minor": 5
}
