{
 "cells": [
  {
   "cell_type": "markdown",
   "metadata": {},
   "source": [
    "# Relatório de Supercomputação\n",
    "\n",
    "### Smith Waterman X Busca Local Aleatória\n",
    "\n",
    "**Aluno:** Antonio Fuziy"
   ]
  },
  {
   "cell_type": "code",
   "execution_count": 63,
   "metadata": {},
   "outputs": [],
   "source": [
    "import subprocess\n",
    "import time\n",
    "import matplotlib.pyplot as plt\n",
    "\n",
    "smith_waterman = \"./smith_waterman\"\n",
    "busca_local_randomness = './busca_local_randomness' "
   ]
  },
  {
   "cell_type": "code",
   "execution_count": 64,
   "metadata": {},
   "outputs": [],
   "source": [
    "def roda_com_entrada(executavel, arquivo_in):\n",
    "  with open(arquivo_in) as f:\n",
    "    start = time.perf_counter()\n",
    "    proc = subprocess.run([executavel], input=f.read(), text=True, capture_output=True)\n",
    "    end = time.perf_counter()\n",
    "\n",
    "    # print('Saída:', proc.stdout)\n",
    "    # print('Stderr:', proc.stderr)\n",
    "    # print('Tempo total(s):', end - start)\n",
    "    f.close()\n",
    "  return proc.stdout, (end - start)"
   ]
  },
  {
   "cell_type": "markdown",
   "metadata": {},
   "source": [
    "## Teste dos algorítmos para sequências menores\n",
    "\n",
    "N = 1\n",
    "M = 4"
   ]
  },
  {
   "cell_type": "code",
   "execution_count": 65,
   "metadata": {},
   "outputs": [],
   "source": [
    "result_smith_waterman_tiny, time_smith_waterman_tiny = roda_com_entrada(smith_waterman,\"dna_tiny.seq\")\n",
    "result_busca_local_randomness_tiny, time_busca_local_randomness_tiny = roda_com_entrada(busca_local_randomness,\"dna_tiny.seq\")"
   ]
  },
  {
   "cell_type": "markdown",
   "metadata": {},
   "source": [
    "## Teste dos algorítmos para sequências de tamanho médio\n",
    "\n",
    "N = 10\n",
    "M = 40"
   ]
  },
  {
   "cell_type": "code",
   "execution_count": 66,
   "metadata": {},
   "outputs": [],
   "source": [
    "result_smith_waterman_medium, time_smith_waterman_medium = roda_com_entrada(smith_waterman,\"dna_medium.seq\")\n",
    "result_busca_local_randomness_medium, time_busca_local_randomness_medium = roda_com_entrada(busca_local_randomness,\"dna_medium.seq\")"
   ]
  },
  {
   "cell_type": "markdown",
   "metadata": {},
   "source": [
    "## Teste dos algorítmos para sequências maiores\n",
    "\n",
    "N = 100\n",
    "M = 400"
   ]
  },
  {
   "cell_type": "code",
   "execution_count": 67,
   "metadata": {},
   "outputs": [],
   "source": [
    "result_smith_waterman_large, time_smith_waterman_large = roda_com_entrada(smith_waterman,\"dna_large.seq\")\n",
    "result_busca_local_randomness_large, time_busca_local_randomness_large = roda_com_entrada(busca_local_randomness,\"dna_large.seq\")"
   ]
  },
  {
   "cell_type": "code",
   "execution_count": 68,
   "metadata": {},
   "outputs": [],
   "source": [
    "with open(\"algorithms_comparison.txt\", \"w\") as f:\n",
    "    f.write(\"===============================================================================\\n\")\n",
    "    f.write(f\"Tempo Smith Waterman Tiny: {time_smith_waterman_tiny}\\n\")\n",
    "    f.write(f\"{result_smith_waterman_tiny}\\n\")\n",
    "    f.write(f\"Tempo Busca Local Randomness Tiny: {time_busca_local_randomness_tiny}\\n\")\n",
    "    f.write(f\"{result_busca_local_randomness_tiny}\\n\")\n",
    "\n",
    "    f.write(f\"===============================================================================\\n\")\n",
    "    f.write(f\"Tempo Smith Waterman Medium: {time_smith_waterman_medium}\\n\")\n",
    "    f.write(f\"{result_smith_waterman_medium}\\n\")\n",
    "    f.write(f\"Tempo Busca Local Randomness Medium: {time_busca_local_randomness_medium}\\n\")\n",
    "    f.write(f\"{result_busca_local_randomness_medium}\\n\")\n",
    "\n",
    "    f.write(f\"===============================================================================\")\n",
    "    f.write(f\"Tempo Smith Waterman Large: {time_smith_waterman_large}\\n\")\n",
    "    f.write(f\"{result_smith_waterman_large}\\n\")\n",
    "    f.write(f\"Tempo Busca Local Randomness Large: {time_busca_local_randomness_large}\\n\\n\")\n",
    "    f.write(f\"{result_busca_local_randomness_large}\\n\")"
   ]
  },
  {
   "cell_type": "code",
   "execution_count": null,
   "metadata": {},
   "outputs": [],
   "source": []
  }
 ],
 "metadata": {
  "interpreter": {
   "hash": "916dbcbb3f70747c44a77c7bcd40155683ae19c65e1c03b4aa3499c5328201f1"
  },
  "kernelspec": {
   "display_name": "Python 3.8.10 64-bit",
   "language": "python",
   "name": "python3"
  },
  "language_info": {
   "codemirror_mode": {
    "name": "ipython",
    "version": 3
   },
   "file_extension": ".py",
   "mimetype": "text/x-python",
   "name": "python",
   "nbconvert_exporter": "python",
   "pygments_lexer": "ipython3",
   "version": "3.8.10"
  },
  "orig_nbformat": 4
 },
 "nbformat": 4,
 "nbformat_minor": 2
}
