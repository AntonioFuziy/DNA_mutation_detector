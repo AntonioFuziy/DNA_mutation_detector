{
  "nbformat": 4,
  "nbformat_minor": 0,
  "metadata": {
    "colab": {
      "name": "ExaustiveSearch_ParallelGPU.ipynb",
      "provenance": [],
      "collapsed_sections": [],
      "authorship_tag": "ABX9TyO/OedNu7gs+Wz/R7zTMOci",
      "include_colab_link": true
    },
    "kernelspec": {
      "name": "python3",
      "display_name": "Python 3"
    },
    "language_info": {
      "name": "python"
    },
    "accelerator": "GPU"
  },
  "cells": [
    {
      "cell_type": "markdown",
      "metadata": {
        "id": "view-in-github",
        "colab_type": "text"
      },
      "source": [
        "<a href=\"https://colab.research.google.com/github/AntonioFuziy/DNA_mutation_detector/blob/master/RelatorioFinal.ipynb\" target=\"_parent\"><img src=\"https://colab.research.google.com/assets/colab-badge.svg\" alt=\"Open In Colab\"/></a>"
      ]
    },
    {
      "cell_type": "code",
      "source": [
        "# !nvcc -arch=sm_37 -std=c++14 main.cu -o main"
      ],
      "metadata": {
        "colab": {
          "base_uri": "https://localhost:8080/"
        },
        "id": "tAH-xhuIrV6Q",
        "outputId": "20b7fcc2-08b8-4c06-9966-b7d1bed66766"
      },
      "execution_count": null,
      "outputs": [
        {
          "output_type": "stream",
          "name": "stdout",
          "text": [
            "nvcc warning : The 'compute_35', 'compute_37', 'compute_50', 'sm_35', 'sm_37' and 'sm_50' architectures are deprecated, and may be removed in a future release (Use -Wno-deprecated-gpu-targets to suppress warning).\n"
          ]
        }
      ]
    },
    {
      "cell_type": "code",
      "source": [
        "# !./main < dna.seq"
      ],
      "metadata": {
        "id": "nlLmXCc9sJeG",
        "colab": {
          "base_uri": "https://localhost:8080/"
        },
        "outputId": "4c751671-9bbc-4aa5-ce0a-3f54c5a30b38"
      },
      "execution_count": null,
      "outputs": [
        {
          "output_type": "stream",
          "name": "stdout",
          "text": [
            "Tempo para calculo - levou - 34616 milisegundos\n",
            "Score: 200\n"
          ]
        }
      ]
    },
    {
      "cell_type": "code",
      "source": [
        "# !g++ -Wall -O3 exaustive_search.cpp -o exaustive_search"
      ],
      "metadata": {
        "id": "rCdNufNEuZCB"
      },
      "execution_count": null,
      "outputs": []
    },
    {
      "cell_type": "code",
      "source": [
        "# !g++ -g -Wall -fopenmp parallel_exaustive_search.cpp -o parallel_exaustive_search"
      ],
      "metadata": {
        "id": "Vi6dE-nQujzm"
      },
      "execution_count": null,
      "outputs": []
    },
    {
      "cell_type": "code",
      "source": [
        "# !./exaustive_search < dna20.seq"
      ],
      "metadata": {
        "colab": {
          "base_uri": "https://localhost:8080/"
        },
        "id": "_UcfyfPns4Fv",
        "outputId": "2c39cfc3-04ef-4234-8698-42c0883fb553"
      },
      "execution_count": null,
      "outputs": [
        {
          "output_type": "stream",
          "name": "stdout",
          "text": [
            "A size: 20\n",
            "B size: 20\n",
            "\n",
            "A: T-GAAGAAAA-TAGAT-CAG\n",
            "B: TGA-A-C-GTAGAAT-GC--\n",
            "\n",
            "Score: 37\n"
          ]
        }
      ]
    },
    {
      "cell_type": "code",
      "source": [
        "# !./parallel_exaustive_search < dna20.seq"
      ],
      "metadata": {
        "colab": {
          "base_uri": "https://localhost:8080/"
        },
        "id": "A-NndJ5pux9k",
        "outputId": "984c0a52-791a-4eba-d7f1-565de24d0f8f"
      },
      "execution_count": null,
      "outputs": [
        {
          "output_type": "stream",
          "name": "stdout",
          "text": [
            "A size: 20\n",
            "B size: 20\n",
            "\n",
            "A: T-GAAGAAAA-TAGAT-CAG\n",
            "B: TGA-A-C-GTAGAAT-GC--\n",
            "\n",
            "Score: 21\n"
          ]
        }
      ]
    },
    {
      "cell_type": "code",
      "source": [
        "!python3 ./dna_sequences/sequence_generator.py"
      ],
      "metadata": {
        "id": "Nn9FdLfhv8v7"
      },
      "execution_count": null,
      "outputs": []
    },
    {
      "cell_type": "code",
      "source": [
        "import matplotlib.pyplot as plt\n",
        "import numpy as np\n",
        "import time\n",
        "import os\n",
        "import subprocess\n",
        "plt.style.use(\"ggplot\")"
      ],
      "metadata": {
        "id": "In2Dk23Po-YF"
      },
      "execution_count": null,
      "outputs": []
    },
    {
      "cell_type": "code",
      "source": [
        "algorithms = [\n",
        "    \"/content/exaustive_search\",\n",
        "    \"/content/parallel_exaustive_search\",\n",
        "    \"/content/main\"\n",
        "]\n",
        "\n",
        "input_directory = \"dna_sequences/all_sequences\""
      ],
      "metadata": {
        "id": "_q7264huq1cE"
      },
      "execution_count": null,
      "outputs": []
    },
    {
      "cell_type": "code",
      "source": [
        "def roda_com_entrada(executavel, algorithm):\n",
        "  with open(algorithm) as f:\n",
        "    start = time.perf_counter()\n",
        "    proc = subprocess.run([executavel], input=f.read(), text=True, capture_output=True)\n",
        "    end = time.perf_counter()\n",
        "  return end-start"
      ],
      "metadata": {
        "id": "TElOogYRq-iP"
      },
      "execution_count": null,
      "outputs": []
    },
    {
      "cell_type": "code",
      "source": [
        "def generate_time(algorithm, directory):\n",
        "    tempos_busca = []\n",
        "    dir_list = os.listdir(directory)\n",
        "    for f in dir_list:\n",
        "        tempos_busca.append(roda_com_entrada(algorithm,f'{directory}/{f}'))\n",
        "    return tempos_busca, dir_list"
      ],
      "metadata": {
        "id": "7CRy_E72q_4E"
      },
      "execution_count": null,
      "outputs": []
    },
    {
      "cell_type": "code",
      "source": [
        "def generate_length(directory, dir_list):\n",
        "    n = []\n",
        "    m = []\n",
        "    for file in dir_list:\n",
        "        with open(f'{directory}/{file}') as f :\n",
        "            text_splitted = f.read().splitlines()\n",
        "        n.append(text_splitted[0])\n",
        "        m.append(text_splitted[1])\n",
        "    n = [int(i) for i in n]\n",
        "    m = [int(j) for j in m]\n",
        "    return n, m"
      ],
      "metadata": {
        "id": "G9-GTGOWrBx4"
      },
      "execution_count": null,
      "outputs": []
    },
    {
      "cell_type": "code",
      "source": [
        "tempos_exaustiva_sequencial, dir_exaustiva_sequencial = generate_time(algorithms[0], input_directory)\n",
        "n_exaustiva_sequencial, m_exaustiva_sequencial = generate_length(input_directory, dir_exaustiva_sequencial)\n",
        "\n",
        "tempos_exaustiva_parallel, dir_exaustiva_parallel  = generate_time(algorithms[1], input_directory)\n",
        "n_exaustiva_parallel, m_exaustiva_parallel = generate_length(input_directory, dir_exaustiva_parallel)\n",
        "\n",
        "tempos_exaustiva_gpu, dir_exaustiva_gpu  = generate_time(algorithms[2], input_directory)\n",
        "n_exaustiva_gpu, m_exaustiva_gpu = generate_length(input_directory, dir_exaustiva_gpu)"
      ],
      "metadata": {
        "id": "uy0YNVtSrEEh"
      },
      "execution_count": null,
      "outputs": []
    },
    {
      "cell_type": "code",
      "source": [
        "plt.figure(figsize=(12, 7))\n",
        "plt.scatter(n_exaustiva_sequencial, tempos_exaustiva_sequencial, label=\"sequential\")\n",
        "plt.scatter(n_exaustiva_parallel, tempos_exaustiva_parallel, label=\"parallel\")\n",
        "plt.scatter(n_exaustiva_gpu, tempos_exaustiva_gpu, label=\"gpu parallel\")\n",
        "plt.title(\"Exaustive Search\")\n",
        "plt.xlabel('Sequência')\n",
        "plt.ylabel(\"Tempo\")\n",
        "plt.legend()\n",
        "\n",
        "plt.show()"
      ],
      "metadata": {
        "id": "M5DkJR2_rHQx",
        "colab": {
          "base_uri": "https://localhost:8080/",
          "height": 462
        },
        "outputId": "32d9dd8e-5895-4b5c-e9d9-df4149bf0880"
      },
      "execution_count": null,
      "outputs": [
        {
          "output_type": "display_data",
          "data": {
            "text/plain": [
              "<Figure size 864x504 with 1 Axes>"
            ],
            "image/png": "[encoded data removed]"
          },
          "metadata": {}
        }
      ]
    },
    {
      "cell_type": "code",
      "source": [
        ""
      ],
      "metadata": {
        "id": "VsumbhcGvYfr"
      },
      "execution_count": null,
      "outputs": []
    }
  ]
}