{
  "cells": [
    {
      "cell_type": "markdown",
      "metadata": {
        "colab_type": "text",
        "id": "view-in-github"
      },
      "source": [
        "<a href=\"https://colab.research.google.com/github/AntonioFuziy/DNA_mutation_detector/blob/master/RelatorioFinal.ipynb\" target=\"_parent\"><img src=\"https://colab.research.google.com/assets/colab-badge.svg\" alt=\"Open In Colab\"/></a>"
      ]
    },
    {
      "cell_type": "markdown",
      "metadata": {
        "id": "UVD35_UgWzZC"
      },
      "source": [
        "# Relatório Final - Supercomputação\n",
        "\n",
        "### Paralelismo em GPU e CPU\n",
        "\n",
        "Aluno: Antonio Fuziy\n",
        "\n",
        "Prof: Luciano Silva\n",
        "\n",
        "___"
      ]
    },
    {
      "cell_type": "markdown",
      "metadata": {
        "id": "FHRNz33uXLUy"
      },
      "source": [
        "## Sequencial\n",
        "\n",
        "Para realização do relatório, é necessário realizar uma contextualização sobre os três algoritmos tratados na atividade. Dentre eles estão os itens representados abaixo:\n",
        "\n",
        "- Smith Waterman\n",
        "\n",
        "A implementação do algoritmo de Smith Waterman se baseia mais em exploitation, utilizando um alinhamento local que gera todas as subsequências de todos os tamanhos e compara essas subsequências através de uma matriz, calculando a melhor pontuação possível sempre que uma subsequência comparada se apresenta melhor que as outras anteriores. \n",
        "\n",
        "- Busca Local\n",
        "\n",
        "Para a implementação da busca local a ideia é um pouco diferente, esse algoritmo se baseia mais em exploration e em pouco exploitation, utilizando-se de uma aleatoriedade para gerar as subsequências de diferentes tamanhos, assim através dessas sequências aleatórias calcula-se a pontuação e monta-se as sequências A e B resultantes da melhor pontuação.\n",
        "\n",
        "- Busca Exaustiva\n",
        "\n",
        "Por fim, para a implementação da busca exaustiva a ideia é muito focada em exploration, dessa forma ele gera todas as possíveis subsequências a fim de conseguir encontrar a melhor pontuação a partir das duas sequências de entrada."
      ]
    },
    {
      "cell_type": "markdown",
      "metadata": {},
      "source": [
        "Bibliotecas para o código"
      ]
    },
    {
      "cell_type": "code",
      "execution_count": 1,
      "metadata": {},
      "outputs": [],
      "source": [
        "import matplotlib.pyplot as plt\n",
        "import numpy as np\n",
        "import time\n",
        "import os\n",
        "import subprocess\n",
        "plt.style.use(\"ggplot\")"
      ]
    },
    {
      "cell_type": "markdown",
      "metadata": {},
      "source": [
        "Lista de algoritmos testados"
      ]
    },
    {
      "cell_type": "code",
      "execution_count": null,
      "metadata": {},
      "outputs": [],
      "source": [
        "algorithms = [\n",
        "    \"./smith-waterman/smith_waterman\",\n",
        "    \"./busca-local-aleatoria/busca_local_randomness\",\n",
        "    \"./busca-exaustiva/exaustive_search\"\n",
        "]\n",
        "\n",
        "input_directory = \"./dna_sequences/all_sequences\""
      ]
    },
    {
      "cell_type": "markdown",
      "metadata": {},
      "source": [
        "Função para rodar os executáveis de `C++`"
      ]
    },
    {
      "cell_type": "code",
      "execution_count": null,
      "metadata": {},
      "outputs": [],
      "source": [
        "def roda_com_entrada(executavel, algorithm):\n",
        "  with open(algorithm) as f:\n",
        "    start = time.perf_counter()\n",
        "    proc = subprocess.run([executavel], input=f.read(), text=True, capture_output=True)\n",
        "    end = time.perf_counter()\n",
        "  return end-start"
      ]
    },
    {
      "cell_type": "markdown",
      "metadata": {},
      "source": [
        "Função para geração de tempos dos algoritmos"
      ]
    },
    {
      "cell_type": "code",
      "execution_count": null,
      "metadata": {},
      "outputs": [],
      "source": [
        "def generate_time(algorithm, directory):\n",
        "    tempos_busca = []\n",
        "    dir_list = os.listdir(directory)\n",
        "    for f in dir_list:\n",
        "        tempos_busca.append(roda_com_entrada(algorithm,f'{directory}/{f}'))\n",
        "    return tempos_busca, dir_list"
      ]
    },
    {
      "cell_type": "markdown",
      "metadata": {},
      "source": [
        "Função para geração de tamanhos das sequências"
      ]
    },
    {
      "cell_type": "code",
      "execution_count": null,
      "metadata": {},
      "outputs": [],
      "source": [
        "def generate_length(directory, dir_list):\n",
        "    n = []\n",
        "    m = []\n",
        "    for file in dir_list:\n",
        "        with open(f'{directory}/{file}') as f :\n",
        "            text_splitted = f.read().splitlines()\n",
        "        n.append(text_splitted[0])\n",
        "        m.append(text_splitted[1])\n",
        "    n = [int(i) for i in n]\n",
        "    m = [int(j) for j in m]\n",
        "    \n",
        "    return n, m"
      ]
    },
    {
      "cell_type": "markdown",
      "metadata": {},
      "source": [
        "Executando os algoritmos para as entradas e salvando seus tempos e tamanhos de sequências"
      ]
    },
    {
      "cell_type": "code",
      "execution_count": null,
      "metadata": {},
      "outputs": [],
      "source": [
        "tempos_smith, dir_smith = generate_time(algorithms[0], input_directory)\n",
        "n_smith, m_smith = generate_length(input_directory, dir_smith)\n",
        "\n",
        "tempos_busca_local, dir_busca_local = generate_time(algorithms[1], input_directory)\n",
        "n_busca_local, m_busca_local = generate_length(input_directory, dir_busca_local)\n",
        "\n",
        "tempos_exaustiva, dir_exaustiva = generate_time(algorithms[2], input_directory)\n",
        "n_exaustiva, m_exaustiva = generate_length(input_directory, dir_exaustiva)"
      ]
    },
    {
      "cell_type": "markdown",
      "metadata": {},
      "source": [
        "___\n",
        "\n",
        "### Análise dos algoritmos\n",
        "\n",
        "Utilizando os tempos de execução dos algoritmos e os tamanhos das sequências A e B geradas, é razoável realizar a análise e comparação dos comportamentos dos três algoritmos com sequências de vários tamanhos, assim abaixo foi exposto os gráfico 3D de **Tamanho da Sequência A X Tamanho da Sequência B X Tempo** para os algoritmos de Smith Waterman, Busca Local e Busca Exaustiva.\n",
        "\n",
        "**Obs: Vale ressaltar que a análise foi realizada a partir de várias sequências de DNA de tamanhos diferentes, com o tamanho máximo de 300, e assim foi possível construir o relatório com análises mais aprofundadas.**"
      ]
    },
    {
      "cell_type": "code",
      "execution_count": null,
      "metadata": {},
      "outputs": [],
      "source": [
        "fig = plt.figure(figsize=(15, 8))\n",
        "ax1 = fig.add_subplot(111, projection='3d')\n",
        "ax1.plot_trisurf(n_smith, m_smith, tempos_smith, cmap=\"plasma\")\n",
        "ax1.set_title(\"Smith Waterman\")\n",
        "ax1.set_xlabel('Sequência A')\n",
        "ax1.set_ylabel('Sequência B')\n",
        "ax1.set_zlabel('Tempo')\n",
        "\n",
        "fig = plt.figure(figsize=(15, 8))\n",
        "ax2 = fig.add_subplot(111, projection='3d')\n",
        "ax2.plot_trisurf(n_busca_local, m_busca_local, tempos_busca_local, cmap=\"plasma\")\n",
        "ax2.set_title(\"Busca Local\")\n",
        "ax2.set_xlabel('Sequência A')\n",
        "ax2.set_ylabel('Sequência B')\n",
        "ax2.set_zlabel('Tempo')\n",
        "\n",
        "fig = plt.figure(figsize=(15, 8))\n",
        "ax3 = fig.add_subplot(111, projection='3d')\n",
        "ax3.plot_trisurf(n_exaustiva, m_exaustiva, tempos_exaustiva, cmap=\"plasma\")\n",
        "ax3.set_title(\"Busca Exaustiva\")\n",
        "ax3.set_xlabel('Sequência A')\n",
        "ax3.set_ylabel('Sequência B')\n",
        "ax3.set_zlabel('Tempo')\n",
        "\n",
        "fig.show()"
      ]
    },
    {
      "cell_type": "markdown",
      "metadata": {},
      "source": [
        "Analisando os gráficos acima pode-se identificar alguns comportamentos por parte de cada algortimo:\n",
        "\n",
        "- **Smith Waterman:**\n",
        "\n",
        "No gráfico 1, observa-se que as cores mais escuras representam os valores menores de tempo e as cores mais claras representam os valores maiores de tempo, assim pode-se verificar que quando o tamanho das sequências de entrada aumentam, o valor de tempo de processamento tende a aumentar de certa forma, porém existe uma certa variação em alguns casos, gerando picos alguns picos de tempo. Porém no fim pode-se perceber que com o aumento dos tamanhos das sequências de DNA, o gráfico tende a ficar com cores mais claras, mostrando que o tempo de execução torna-se maior com essa variação. \n",
        "\n",
        "- **Busca Local:**\n",
        "\n",
        "No gráfico 2 o comportamento apresenta-se um pouco diferente, uma vez que o algoritmo funciona a partir de uma geração aleatória de subsequências baseadas nas sequências de entrada, dessa forma o tempo de processamento vai variar independentemente das sequências de entrada, visto que não existe um padrão nos tamanhos delas, portanto o gráfico apresenta várias mudanças de cores e muita variação o tempo todo.\n",
        "\n",
        "- **Busca Exaustiva:**\n",
        "\n",
        "No gráfico 3, o comportamento é mais visível, uma vez que a busca exaustiva gera todas as subsequências possíveis das entradas, dessa forma quanto maior o tamanho da entrada, maior o tamanho das subsequências geradas e assim maior o tempo de processamento para o cálculo da pontuação, portanto o gŕafico apresenta um comportamento exponencial, começando com cores mais escuras quando as sequências de entrada são menores e conforme o aumento delas, o gráfico tende a ficar mais clara, demonstrando o aumento do tempo de execução. \n"
      ]
    },
    {
      "cell_type": "markdown",
      "metadata": {},
      "source": [
        "___\n",
        "\n",
        "### Profiling\n",
        "\n",
        "Para uma análise dos tempos de execução e dos pontos de lentidão dos códigos utilizou-se o `valgrind`, dessa forma foi representado abaixo cada uma das análises dos três algoritmos (Smith Waterman, Busca Local e Busca Exaustiva).\n",
        "\n",
        "- **Smith Waterman:**\n",
        "\n",
        "![profiling smith waterman](https://github.com/AntonioFuziy/DNA_mutation_detector/blob/master/sequencial/smith_waterman_valgrind.png?raw=true)\n",
        "\n",
        "Observando-se o profiling do algoritmo de Smith Waterman pode-se verificar que o local de mais lentidão na sua implementação está localizado onde gera-se a matriz H, uma vez que precisa-se gerar todas as subsequências a partir das entradas, dessa forma o número de iterações nessa parte do programa tende a ser maior.\n",
        "\n",
        "- **Busca Local:**\n",
        "\n",
        "![profiling busca_local](https://github.com/AntonioFuziy/DNA_mutation_detector/blob/master/sequencial/busca_local_valgrind.png?raw=true)\n",
        "\n",
        "Para a implementação da busca local, como as subsequências geradas são aleatórias, o processamento tende a ser muito menor, porém observando o profiling, identifica-se que os momentos em que geram-se as subsequências A e B são os locais de mais lentidão do código, porém como o processamento do código é muito rápido não faz tanta diferença.\n",
        "\n",
        "- **Busca Exaustiva:**\n",
        "\n",
        "![profiling busca_exaustiva](https://github.com/AntonioFuziy/DNA_mutation_detector/blob/master/sequencial/busca_exaustiva_valgrind.png?raw=true)\n",
        "\n",
        "Por fim, para implementação da busca exaustiva, espera-se que o processamento demore muito mais, visto que esse algoritmo gera todas as subsequências possíveis, dessa forma observando o profiling da busca exaustiva pode-se perceber que a maior lentidão do algoritmo está presente nos loops sobre as subsequências e no cálculo da pontuação da melhor subsequência, uma vez que existem 3 for's um dentro do outro nesse fragmento do código, gerando assim milhões de iterações do algortimo."
      ]
    },
    {
      "cell_type": "markdown",
      "metadata": {},
      "source": [
        "___\n",
        "\n",
        "## Paralelismo\n",
        "\n",
        "Para a parte paralela desse projeto, a ideia era utilizar a implementação sequencial da busca exaustiva para compara-la com os algoritmos de busca exaustiva paralelizados tanto em CPU quanto em GPU.\n",
        "\n",
        "O paralelismo da CPU foi realizado utilizando uma biblioteca de `C++` chamada OpenMP, ao passo em que o paralelismo realizado utilizando a GPU foi utilizado a biblioteca **CUDA**, uma forma de construit algoritmos em paralelo programando em GPU. Portanto teriamos ao fim 3 implementações dentre elas, a busca exaustiva sequencial, a busca exaustiva paralelizada em CPU e a busca exaustiva paralelizada e GPU.\n",
        "\n",
        "Segue a implementação das três abaixo:\n",
        "\n",
        "**OBS: Foi necessário utilizar os códigos das implementações no notebook do Google Colab para gerar os executáveis para rodar no notebook pelo browser. Lembrando que apenas a parte paralela utilizando openmp e cuda foi implementada usando o Google Colab.**"
      ]
    },
    {
      "cell_type": "code",
      "execution_count": null,
      "metadata": {
        "colab": {
          "base_uri": "https://localhost:8080/"
        },
        "id": "_a3sJUm0Z7jW",
        "outputId": "9d812d5f-26f7-462e-b366-bea64dfaa787"
      },
      "outputs": [
        {
          "name": "stdout",
          "output_type": "stream",
          "text": [
            "Overwriting exaustive_search.cpp\n"
          ]
        }
      ],
      "source": [
        "%%writefile exaustive_search.cpp\n",
        "#include <iostream>\n",
        "#include <vector>\n",
        "#include <string>\n",
        "#include <algorithm>\n",
        "#include <random>\n",
        "#include <fstream>\n",
        "\n",
        "using namespace std;\n",
        "\n",
        "struct comp_seqs {\n",
        "  string a;\n",
        "  string b;\n",
        "  int score;\n",
        "};\n",
        "\n",
        "// void reportTime(const char* msg, steady_clock::duration span) {\n",
        "//   auto ms = duration_cast<milliseconds>(span);\n",
        "//   cout << msg << \" - levou - \" <<\n",
        "//   ms.count() << \" milisegundos\" << endl;\n",
        "// }\n",
        "\n",
        "int match(char a, char b){\n",
        "  if(a == b){\n",
        "    return 2;\n",
        "  }\n",
        "  return -1;\n",
        "}\n",
        "\n",
        "// int calculate_score(string a, string b){\n",
        "//   int score = 0;\n",
        "//   for(int i = 0; i < int(a.size()); i++){\n",
        "//     score += match(a[i], b[i]);\n",
        "//   }\n",
        "//   return score;\n",
        "// }\n",
        "int return_index(int a, int b, int c){\n",
        "  if(a >= b and a >= c and a >= 0){\n",
        "    return 1;\n",
        "  } else if(b >= c and b >= 0){\n",
        "    return 2;\n",
        "  } else if(c >= 0){\n",
        "    return 3;\n",
        "  }\n",
        "  return 0;\n",
        "}\n",
        "\n",
        "vector<string> generate_subsequences(string sequence){\n",
        "  vector<string> subsequences;\n",
        "\n",
        "  for(int i = 0; i <= int(sequence.size()); i++){\n",
        "    for(int j = 1; j <= int(sequence.size()); j++){\n",
        "      subsequences.push_back(sequence.substr(i, j));\n",
        "    }\n",
        "  }\n",
        "\n",
        "  return subsequences;\n",
        "}\n",
        "\n",
        "int calculate_score(string a, string b, int n, int m, vector<vector<int>> H){\n",
        "  int max_H = 0;\n",
        "  int w;\n",
        "  int diagonal, delecao, insercao, current_index;\n",
        "  \n",
        "  for (int i = 1; i <= n; i++){\n",
        "    for (int j = 1; j <= m; j++){\n",
        "      w = match(a[i-1], b[j-1]);\n",
        "      diagonal = H[i-1][j-1] + w;\n",
        "      delecao = H[i-1][j] - 1;\n",
        "      insercao = H[i][j-1] - 1;\n",
        "      current_index = return_index(diagonal, delecao, insercao);\n",
        "\n",
        "      if(current_index == 1){\n",
        "        H[i][j] = diagonal;\n",
        "      } else if(current_index == 2){\n",
        "        H[i][j] = delecao;\n",
        "      } else if(current_index == 3){\n",
        "        H[i][j] = insercao;\n",
        "      } \n",
        "      else {\n",
        "        H[i][j] = 0;\n",
        "      }\n",
        "\n",
        "      if(H[i][j] > max_H){\n",
        "        max_H = H[i][j];\n",
        "      }\n",
        "    }\n",
        "  }\n",
        "  return max_H;\n",
        "}\n",
        "\n",
        "int main(){\n",
        "  int n;\n",
        "  int m;\n",
        "  string a; \n",
        "  string b;\n",
        "  int score = 0;\n",
        "  vector<vector<int>> H;\n",
        "\n",
        "  cin >> n >> m;\n",
        "  cin >> a >> b;\n",
        "\n",
        "  cout << \"A size: \" << n << endl;\n",
        "  cout << \"B size: \" << m << endl;\n",
        "  cout << \"\" << endl;\n",
        "  cout << \"A: \" << a << endl;\n",
        "  cout << \"B: \" << b << endl;\n",
        "  cout << \"\" << endl;\n",
        "\n",
        "  H.resize(n+1);\n",
        "  for(int i = 0; i < n+1; i++){\n",
        "    H[i].resize(m+1);\n",
        "  }\n",
        "  \n",
        "  vector<string> subsequences_a = generate_subsequences(a);\n",
        "  vector<string> subsequences_b = generate_subsequences(b);\n",
        "\n",
        "  string subsequence_a;\n",
        "  string subsequence_b;\n",
        "\n",
        "  string greater_sequence;\n",
        "  string minor_sequence;\n",
        "\n",
        "  vector<comp_seqs> sequences_result;\n",
        "\n",
        "  for(int i = 0; i < int(subsequences_a.size()); i++){\n",
        "    for(int j = 0; j < int(subsequences_b.size()); j++){\n",
        "      if(int(subsequences_a[i].size()) == int(subsequences_b[j].size())){\n",
        "        subsequence_a = subsequences_a[i];\n",
        "        subsequence_b = subsequences_b[j];\n",
        "\n",
        "        comp_seqs sequence_result;\n",
        "        sequence_result.a = subsequence_a;\n",
        "        sequence_result.b = subsequence_b;\n",
        "        sequences_result.push_back(sequence_result);\n",
        "      }\n",
        "    }\n",
        "  }\n",
        "\n",
        "  comp_seqs best_sequences;\n",
        "  best_sequences.score = 0;\n",
        "  for (int i = 0; i < int(sequences_result.size()); i++){\n",
        "    score = calculate_score(sequences_result[i].a, sequences_result[i].b, n, m, H);\n",
        "    sequences_result[i].score = score;\n",
        "    if(sequences_result[i].score > best_sequences.score){\n",
        "      best_sequences = sequences_result[i];\n",
        "    }\n",
        "  }\n",
        "\n",
        "  cout << \"Score: \" << best_sequences.score << endl;\n",
        "\n",
        "  return 0;\n",
        "}"
      ]
    },
    {
      "cell_type": "code",
      "execution_count": null,
      "metadata": {
        "colab": {
          "base_uri": "https://localhost:8080/"
        },
        "id": "lkxbmhpSaCVh",
        "outputId": "8307176b-fdde-4d5e-e43a-4031f7a31d7f"
      },
      "outputs": [
        {
          "name": "stdout",
          "output_type": "stream",
          "text": [
            "Overwriting openmp_exaustive_search.cpp\n"
          ]
        }
      ],
      "source": [
        "%%writefile openmp_exaustive_search.cpp\n",
        "#include <iostream>\n",
        "#include <vector>\n",
        "#include <string>\n",
        "#include <algorithm>\n",
        "#include <random>\n",
        "#include <fstream>\n",
        "\n",
        "using namespace std;\n",
        "\n",
        "struct comp_seqs {\n",
        "  string a;\n",
        "  string b;\n",
        "  int score;\n",
        "};\n",
        "\n",
        "// void reportTime(const char* msg, steady_clock::duration span) {\n",
        "//   auto ms = duration_cast<milliseconds>(span);\n",
        "//   cout << msg << \" - levou - \" <<\n",
        "//   ms.count() << \" milisegundos\" << endl;\n",
        "// }\n",
        "\n",
        "int match(char a, char b){\n",
        "  if(a == b){\n",
        "    return 2;\n",
        "  }\n",
        "  return -1;\n",
        "}\n",
        "\n",
        "// int calculate_score(string a, string b){\n",
        "//   int score = 0;\n",
        "//   for(int i = 0; i < int(a.size()); i++){\n",
        "//     score += match(a[i], b[i]);\n",
        "//   }\n",
        "//   return score;\n",
        "// }\n",
        "int return_index(int a, int b, int c){\n",
        "  if(a >= b and a >= c and a >= 0){\n",
        "    return 1;\n",
        "  } else if(b >= c and b >= 0){\n",
        "    return 2;\n",
        "  } else if(c >= 0){\n",
        "    return 3;\n",
        "  }\n",
        "  return 0;\n",
        "}\n",
        "\n",
        "vector<string> generate_subsequences(string sequence){\n",
        "  vector<string> subsequences;\n",
        "\n",
        "  for(int i = 0; i <= int(sequence.size()); i++){\n",
        "    for(int j = 1; j <= int(sequence.size()); j++){\n",
        "      subsequences.push_back(sequence.substr(i, j));\n",
        "    }\n",
        "  }\n",
        "\n",
        "  return subsequences;\n",
        "}\n",
        "\n",
        "int calculate_score(string a, string b, int n, int m, vector<vector<int>> H){\n",
        "  int max_H = 0;\n",
        "  int w;\n",
        "  int diagonal, delecao, insercao, current_index;\n",
        "  \n",
        "  for (int i = 1; i <= n; i++){\n",
        "    for (int j = 1; j <= m; j++){\n",
        "      w = match(a[i-1], b[j-1]);\n",
        "      diagonal = H[i-1][j-1] + w;\n",
        "      delecao = H[i-1][j] - 1;\n",
        "      insercao = H[i][j-1] - 1;\n",
        "      current_index = return_index(diagonal, delecao, insercao);\n",
        "\n",
        "      if(current_index == 1){\n",
        "        H[i][j] = diagonal;\n",
        "      } else if(current_index == 2){\n",
        "        H[i][j] = delecao;\n",
        "      } else if(current_index == 3){\n",
        "        H[i][j] = insercao;\n",
        "      } \n",
        "      else {\n",
        "        H[i][j] = 0;\n",
        "      }\n",
        "\n",
        "      if(H[i][j] > max_H){\n",
        "        max_H = H[i][j];\n",
        "      }\n",
        "    }\n",
        "  }\n",
        "  return max_H;\n",
        "}\n",
        "\n",
        "int main(){\n",
        "  int n;\n",
        "  int m;\n",
        "  string a; \n",
        "  string b;\n",
        "  int score = 0;\n",
        "  vector<vector<int>> H;\n",
        "\n",
        "  cin >> n >> m;\n",
        "  cin >> a >> b;\n",
        "\n",
        "  cout << \"A size: \" << n << endl;\n",
        "  cout << \"B size: \" << m << endl;\n",
        "  cout << \"\" << endl;\n",
        "  cout << \"A: \" << a << endl;\n",
        "  cout << \"B: \" << b << endl;\n",
        "  cout << \"\" << endl;\n",
        "\n",
        "  H.resize(n+1);\n",
        "  for(int i = 0; i < n+1; i++){\n",
        "    H[i].resize(m+1);\n",
        "  }\n",
        "  \n",
        "  vector<string> subsequences_a = generate_subsequences(a);\n",
        "  vector<string> subsequences_b = generate_subsequences(b);\n",
        "\n",
        "  string subsequence_a;\n",
        "  string subsequence_b;\n",
        "\n",
        "  string greater_sequence;\n",
        "  string minor_sequence;\n",
        "\n",
        "  vector<comp_seqs> sequences_result;\n",
        "\n",
        "  for(int i = 0; i < int(subsequences_a.size()); i++){\n",
        "    for(int j = 0; j < int(subsequences_b.size()); j++){\n",
        "      if(int(subsequences_a[i].size()) == int(subsequences_b[j].size())){\n",
        "        subsequence_a = subsequences_a[i];\n",
        "        subsequence_b = subsequences_b[j];\n",
        "\n",
        "        comp_seqs sequence_result;\n",
        "        sequence_result.a = subsequence_a;\n",
        "        sequence_result.b = subsequence_b;\n",
        "        sequences_result.push_back(sequence_result);\n",
        "      }\n",
        "    }\n",
        "  }\n",
        "\n",
        "  comp_seqs best_sequences;\n",
        "  best_sequences.score = 0;\n",
        "  for (int i = 0; i < int(sequences_result.size()); i++){\n",
        "    score = calculate_score(sequences_result[i].a, sequences_result[i].b, n, m, H);\n",
        "    sequences_result[i].score = score;\n",
        "    if(sequences_result[i].score > best_sequences.score){\n",
        "      best_sequences = sequences_result[i];\n",
        "    }\n",
        "  }\n",
        "\n",
        "  cout << \"Score: \" << best_sequences.score << endl;\n",
        "\n",
        "  return 0;\n",
        "}"
      ]
    },
    {
      "cell_type": "code",
      "execution_count": null,
      "metadata": {
        "colab": {
          "base_uri": "https://localhost:8080/"
        },
        "id": "Ei-ftYyjaDEZ",
        "outputId": "b9da4757-44d2-4efa-b52c-96207842271c"
      },
      "outputs": [
        {
          "name": "stdout",
          "output_type": "stream",
          "text": [
            "Overwriting gpu_exaustive_search.cu\n"
          ]
        }
      ],
      "source": [
        "%%writefile gpu_exaustive_search.cu\n",
        "#include <iostream>\n",
        "#include <algorithm>\n",
        "#include <iomanip>\n",
        "#include <cstdlib>\n",
        "#include <chrono>\n",
        "#include <cstdlib>\n",
        "#include <thrust/device_vector.h>\n",
        "#include <thrust/host_vector.h>\n",
        "#include <thrust/functional.h>\n",
        "#include <thrust/transform.h>\n",
        "#include <thrust/reduce.h>\n",
        "#include <thrust/fill.h>\n",
        "\n",
        "using namespace std;\n",
        "\n",
        "struct begin_end{\n",
        "  int start_a;\n",
        "  int start_b;\n",
        "  int size_a;\n",
        "  int size_b;\n",
        "};\n",
        "\n",
        "using namespace std::chrono;\n",
        "\n",
        "std::vector<begin_end> generate_indexes(int max_size, int min_size){\n",
        "  vector<begin_end> indexes;\n",
        "  begin_end current_index;\n",
        "\n",
        "  for(int index = 0; index < min_size; index++){\n",
        "    for(int i = 0; i < max_size; i++){\n",
        "      for(int j = 0; j < min_size; j++){\n",
        "        current_index.start_a = i;\n",
        "        current_index.start_b = j;\n",
        "        current_index.size_a = i+index;\n",
        "        current_index.size_b = j+index;\n",
        "        indexes.push_back(current_index);\n",
        "      }\n",
        "    }\n",
        "  }\n",
        "  return indexes;\n",
        "}\n",
        "\n",
        "void reportTime(const char* msg, steady_clock::duration span) {\n",
        "  auto ms = duration_cast<milliseconds>(span);\n",
        "  std::cout << msg << \" - levou - \" <<\n",
        "  ms.count() << \" milisegundos\" << std::endl;\n",
        "}\n",
        "\n",
        "struct sequence_match{\n",
        "  __host__ __device__\n",
        "  int operator()(const char& a, const char& b){\n",
        "    if(a == b){\n",
        "      return 2;\n",
        "    }\n",
        "    return -1;\n",
        "  }\n",
        "};\n",
        "\n",
        "int main(){\n",
        "  int m, n;\n",
        "  string a, b;\n",
        "  steady_clock::time_point ts, te;\n",
        "  \n",
        "  std::cin >> n;\n",
        "  std::cin >> m;\n",
        "  std::cin >> a;\n",
        "  std::cin >> b;\n",
        "\n",
        "  int max_size = 0;\n",
        "  int min_size = 0;\n",
        "  int max_score = 0;\n",
        "\n",
        "  min_size = int(a.size());\n",
        "  max_size = int(b.size());\n",
        "\n",
        "  std::vector<begin_end> all_indexes = generate_indexes(max_size, min_size);\n",
        "\n",
        "  thrust::device_vector<char> a_gpu(n);\n",
        "  thrust::device_vector<char> b_gpu(m);\n",
        "  thrust::device_vector<char> all_sequences(min_size);\n",
        "\n",
        "  for(int i = 0; i < n; i++){\n",
        "    a_gpu[i] = a[i];\n",
        "  }\n",
        "\n",
        "  for(int i = 0; i < m; i++){\n",
        "    b_gpu[i] = b[i];\n",
        "  }\n",
        "\n",
        "  ts = steady_clock::now();\n",
        "  for(int i = 0; i < int(all_indexes.size()); i++){\n",
        "    thrust::transform(\n",
        "      a_gpu.begin() + all_indexes[i].start_a, a_gpu.end() + all_indexes[i].size_a,\n",
        "      b_gpu.begin() + all_indexes[i].start_b, all_sequences.begin(),\n",
        "      sequence_match()\n",
        "    );\n",
        "   \n",
        "    int score = thrust::reduce(all_sequences.begin(), all_sequences.end(), (int) 0, thrust::plus<int>());\n",
        "    if (max_score < score){\n",
        "      max_score = score;\n",
        "    }\n",
        "  }\n",
        "  \n",
        "  te = steady_clock::now();\n",
        "  reportTime(\"Tempo para calculo\", te - ts);\n",
        "  std::cout << std::fixed << std::setprecision(4);\n",
        "\n",
        "  std::cout << \"Score: \" << max_score << endl;\n",
        "\n",
        "  return 0;\n",
        "}"
      ]
    },
    {
      "cell_type": "markdown",
      "metadata": {
        "id": "LsoQOUIRaXkl"
      },
      "source": [
        "Compilando os códigos para gerar os executáveis"
      ]
    },
    {
      "cell_type": "code",
      "execution_count": null,
      "metadata": {
        "colab": {
          "base_uri": "https://localhost:8080/"
        },
        "id": "tAH-xhuIrV6Q",
        "outputId": "c91f44d2-800a-4a9c-b4f5-462edd2e05d2"
      },
      "outputs": [
        {
          "name": "stdout",
          "output_type": "stream",
          "text": [
            "nvcc warning : The 'compute_35', 'compute_37', 'compute_50', 'sm_35', 'sm_37' and 'sm_50' architectures are deprecated, and may be removed in a future release (Use -Wno-deprecated-gpu-targets to suppress warning).\n"
          ]
        }
      ],
      "source": [
        "!g++ -Wall -O3 exaustive_search.cpp -o exaustive_search\n",
        "!g++ -g -Wall -fopenmp openmp_exaustive_search.cpp -o openmp_exaustive_search\n",
        "!nvcc -arch=sm_37 -std=c++14 gpu_exaustive_search.cu -o gpu_exaustive_search"
      ]
    },
    {
      "cell_type": "markdown",
      "metadata": {
        "id": "Apw-yNGsa0b3"
      },
      "source": [
        "#### Algumas orientações para rodar os códigos\n",
        "\n",
        "Para gerar as subsequências de teste utilizou-se um script em python chamado `sequence_generator.py` o qual gera várias subsequências para serem testadas pelos 3 algoritmos citados anteriormente. Para que o teste das sequências seja possível, é necessário criar um diretório `dna_sequences`, adicionar nesse diretório o script `sequence_generator.py` e dentro desse mesmo diretório criar uma pasta `all_sequences`, assim o script em python consegue gerar multiplas subsequências como o notebook necessita.  "
      ]
    },
    {
      "cell_type": "code",
      "execution_count": null,
      "metadata": {
        "id": "Nn9FdLfhv8v7"
      },
      "outputs": [],
      "source": [
        "#executando o script que gera as subsequencias\n",
        "!python3 ./dna_sequences/sequence_generator.py"
      ]
    },
    {
      "cell_type": "markdown",
      "metadata": {
        "id": "gvkkNRo8dSMa"
      },
      "source": [
        "#### Execução do teste dos algoritmos"
      ]
    },
    {
      "cell_type": "code",
      "execution_count": null,
      "metadata": {
        "id": "In2Dk23Po-YF"
      },
      "outputs": [],
      "source": [
        "import matplotlib.pyplot as plt\n",
        "import numpy as np\n",
        "import time\n",
        "import os\n",
        "import subprocess\n",
        "plt.style.use(\"ggplot\")"
      ]
    },
    {
      "cell_type": "code",
      "execution_count": null,
      "metadata": {
        "id": "_q7264huq1cE"
      },
      "outputs": [],
      "source": [
        "algorithms = [\n",
        "    \"/content/exaustive_search\",\n",
        "    \"/content/openmp_exaustive_search\",\n",
        "    \"/content/gpu_exaustive_search\"\n",
        "]\n",
        "\n",
        "input_directory = \"dna_sequences/all_sequences\""
      ]
    },
    {
      "cell_type": "code",
      "execution_count": null,
      "metadata": {
        "id": "TElOogYRq-iP"
      },
      "outputs": [],
      "source": [
        "def roda_com_entrada(executavel, algorithm):\n",
        "  with open(algorithm) as f:\n",
        "    start = time.perf_counter()\n",
        "    proc = subprocess.run([executavel], input=f.read(), text=True, capture_output=True)\n",
        "    end = time.perf_counter()\n",
        "  return end-start"
      ]
    },
    {
      "cell_type": "code",
      "execution_count": null,
      "metadata": {
        "id": "7CRy_E72q_4E"
      },
      "outputs": [],
      "source": [
        "def generate_time(algorithm, directory):\n",
        "    tempos_busca = []\n",
        "    dir_list = os.listdir(directory)\n",
        "    for f in dir_list:\n",
        "        tempos_busca.append(roda_com_entrada(algorithm,f'{directory}/{f}'))\n",
        "    return tempos_busca, dir_list"
      ]
    },
    {
      "cell_type": "code",
      "execution_count": null,
      "metadata": {
        "id": "G9-GTGOWrBx4"
      },
      "outputs": [],
      "source": [
        "def generate_length(directory, dir_list):\n",
        "    n = []\n",
        "    m = []\n",
        "    for file in dir_list:\n",
        "        with open(f'{directory}/{file}') as f :\n",
        "            text_splitted = f.read().splitlines()\n",
        "        n.append(text_splitted[0])\n",
        "        m.append(text_splitted[1])\n",
        "    n = [int(i) for i in n]\n",
        "    m = [int(j) for j in m]\n",
        "    return n, m"
      ]
    },
    {
      "cell_type": "markdown",
      "metadata": {
        "id": "4jrvjQZ3dj6D"
      },
      "source": [
        "Rodando os exeutáveis dos três algoritmos para testar as sequências"
      ]
    },
    {
      "cell_type": "code",
      "execution_count": null,
      "metadata": {},
      "outputs": [],
      "source": [
        "tempos_exaustiva_sequencial, dir_exaustiva_sequencial = generate_time(algorithms[0], input_directory)\n",
        "n_exaustiva_sequencial, m_exaustiva_sequencial = generate_length(input_directory, dir_exaustiva_sequencial)\n",
        "\n",
        "tempos_exaustiva_parallel, dir_exaustiva_parallel  = generate_time(algorithms[1], input_directory)\n",
        "n_exaustiva_parallel, m_exaustiva_parallel = generate_length(input_directory, dir_exaustiva_parallel)\n",
        "\n",
        "tempos_exaustiva_gpu, dir_exaustiva_gpu  = generate_time(algorithms[2], input_directory)\n",
        "n_exaustiva_gpu, m_exaustiva_gpu = generate_length(input_directory, dir_exaustiva_gpu)"
      ]
    },
    {
      "cell_type": "markdown",
      "metadata": {
        "id": "f-03T8JHdx6e"
      },
      "source": [
        "**Gráfico que compara as três implementações da busca exaustiva, conforme as sequências de entrada.**"
      ]
    },
    {
      "cell_type": "code",
      "execution_count": null,
      "metadata": {
        "id": "M5DkJR2_rHQx"
      },
      "outputs": [],
      "source": [
        "plt.figure(figsize=(12, 7))\n",
        "plt.scatter(n_exaustiva_sequencial, tempos_exaustiva_sequencial, label=\"sequential\")\n",
        "plt.scatter(n_exaustiva_parallel, tempos_exaustiva_parallel, label=\"openmp parallel\")\n",
        "plt.scatter(n_exaustiva_gpu, tempos_exaustiva_gpu, label=\"gpu parallel\")\n",
        "plt.title(\"Exaustive Search\")\n",
        "plt.xlabel('Sequência')\n",
        "plt.ylabel(\"Tempo\")\n",
        "plt.legend()\n",
        "\n",
        "plt.show()"
      ]
    },
    {
      "cell_type": "markdown",
      "metadata": {},
      "source": [
        "![GPU](https://github.com/AntonioFuziy/DNA_mutation_detector/blob/master/parallel/gpu/gpu.png?raw=true)"
      ]
    },
    {
      "cell_type": "markdown",
      "metadata": {
        "id": "derZ6Y1KeGwI"
      },
      "source": [
        "## Análise dos resultados\n",
        "\n",
        "A partir dos resultados obtidos, pode-se tirar algumas conclusões sobre os algoritmos implementados.\n",
        "\n",
        "Primeiramente a partir do gráfico acima comparando-se o algoritmo sequencial da busca exaustiva com o paralelo em OpenMP, é possível verificar que o desempenho para sequências pequenas com tamanho até mais ou menos 77, é muito parecido sem tanto ganho de performance, no momento em que os algoritmos testam as sequências maiores, o ganho de performance se mostra mais presente, porém não tão significante, mostrando que o algoritmo utilizando OpenMP tem um ganho maior em relação ao tempo do algoritmo sequencial.\n",
        "\n",
        "Enquanto isso, observando o algoritmo que utiliza de GPU, pode-se perceber que sua performance não se apresenta tão significativa para sequências de tamanho menor, mas quando o tamanho das sequências aumentam de forma significativa, o tempo de execução do algortimo utilizando a GPU torna-se muito mais rápido que o algoritmo sequencial e o paralelo em OpenMP, é possível ver isso pelas curvas do gráfico acima, de forma que o paralelismo em GPU ganha exponecialmente quando as sequências ficam cada vez maiores.\n",
        "\n",
        "Por fim, quando olhamos para sequêcias de tamanho pequeno nenhum dos três algoritmos apresenta uma performance muito vantajosa quando comparados um ao outro, porém quando os tamanhos das sequências aumentam, o tempo de execução do paralelismo em GPU começa a ganhar exponencialmente dos outros dois algoritmos, mesmo que o paralelismo em OpenMP consiga ganhar do algoritmo sequencial. Dessa forma, pode-se concluir que para sequências pequenas ambos os algoritmos podem ser utilizados sem tanta perda de performance, porém para sequências muito grandes o algoritmo paralelizado em GPU torna-se altamente recomendável, uma vez que sua performance ganha exponencialmente dos demais algoritmos."
      ]
    }
  ],
  "metadata": {
    "accelerator": "GPU",
    "colab": {
      "authorship_tag": "ABX9TyNG3B0Qga9K49zpbZEZHOrS",
      "collapsed_sections": [],
      "include_colab_link": true,
      "name": "ExaustiveSearch_ParallelGPU.ipynb",
      "provenance": []
    },
    "interpreter": {
      "hash": "31f2aee4e71d21fbe5cf8b01ff0e069b9275f58929596ceb00d14d90e3e16cd6"
    },
    "kernelspec": {
      "display_name": "Python 3.10.4 64-bit",
      "language": "python",
      "name": "python3"
    },
    "language_info": {
      "codemirror_mode": {
        "name": "ipython",
        "version": 3
      },
      "file_extension": ".py",
      "mimetype": "text/x-python",
      "name": "python",
      "nbconvert_exporter": "python",
      "pygments_lexer": "ipython3",
      "version": "3.10.4"
    }
  },
  "nbformat": 4,
  "nbformat_minor": 0
}
